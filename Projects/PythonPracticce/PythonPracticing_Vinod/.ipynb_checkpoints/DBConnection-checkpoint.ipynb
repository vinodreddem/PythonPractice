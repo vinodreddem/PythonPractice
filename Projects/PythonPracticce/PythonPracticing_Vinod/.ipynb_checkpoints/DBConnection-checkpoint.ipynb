{
 "cells": [
  {
   "cell_type": "markdown",
   "metadata": {},
   "source": [
    "import cx_Oracle\n",
    "\n",
    "dsn_tns = cx_Oracle.makedsn('Host Name', 'Port Number', service_name='Service Name') #if needed, place an 'r' before any parameter in order to address any special character such as '\\'.\n",
    "conn = cx_Oracle.connect(user=r'User Name', password='Personal Password', dsn=dsn_tns) #if needed, place an 'r' before any parameter in order to address any special character such as '\\'. For example, if your user name contains '\\', you'll need to place 'r' before the user name: user=r'User Name'\n",
    "\n",
    "c = conn.cursor()\n",
    "c.execute('select * from database.table') # use triple quotes if you want to spread your query across multiple lines\n",
    "for row in c:\n",
    "    print (row[0], '-', row[1]) # this only shows the first two columns. To add an additional column you'll need to add , '-', row[2], etc.\n",
    "#conn.close()\n",
    "\n",
    "\n"
   ]
  },
  {
   "cell_type": "code",
   "execution_count": 1,
   "metadata": {},
   "outputs": [],
   "source": [
    "import cx_Oracle"
   ]
  },
  {
   "cell_type": "code",
   "execution_count": 9,
   "metadata": {},
   "outputs": [],
   "source": [
    "conn2= cx_Oracle.connect('vinod/vinod@LAPTOP-UIN6HJ09:1521/XE')"
   ]
  },
  {
   "cell_type": "code",
   "execution_count": 2,
   "metadata": {},
   "outputs": [],
   "source": [
    "dsn_tnss = cx_Oracle.makedsn('LAPTOP-UIN6HJ09','1521',service_name='XE')"
   ]
  },
  {
   "cell_type": "code",
   "execution_count": 3,
   "metadata": {},
   "outputs": [],
   "source": [
    "conn = cx_Oracle.connect(user = 'vinod',password ='vinod',dsn=dsn_tnss)"
   ]
  },
  {
   "cell_type": "code",
   "execution_count": 4,
   "metadata": {},
   "outputs": [],
   "source": [
    "c =conn.cursor()"
   ]
  },
  {
   "cell_type": "code",
   "execution_count": 5,
   "metadata": {},
   "outputs": [
    {
     "data": {
      "text/plain": [
       "<cx_Oracle.Cursor on <cx_Oracle.Connection to vinod@(DESCRIPTION=(ADDRESS=(PROTOCOL=TCP)(HOST=LAPTOP-UIN6HJ09)(PORT=1521))(CONNECT_DATA=(SERVICE_NAME=XE)))>>"
      ]
     },
     "execution_count": 5,
     "metadata": {},
     "output_type": "execute_result"
    }
   ],
   "source": [
    "c.execute('select * from bonus')"
   ]
  },
  {
   "cell_type": "code",
   "execution_count": 7,
   "metadata": {},
   "outputs": [
    {
     "name": "stdout",
     "output_type": "stream",
     "text": [
      "2 ---- 2016-06-11 00:00:00 --- 3000\n",
      "3 ---- 2016-02-20 00:00:00 --- 4000\n",
      "1 ---- 2016-02-20 00:00:00 --- 4500\n",
      "2 ---- 2016-06-11 00:00:00 --- 3500\n",
      "1 ---- 2016-02-20 00:00:00 --- 5000\n",
      "2 ---- 2016-06-11 00:00:00 --- 3000\n",
      "3 ---- 2016-02-20 00:00:00 --- 4000\n",
      "1 ---- 2016-02-20 00:00:00 --- 4500\n",
      "2 ---- 2016-06-11 00:00:00 --- 3500\n"
     ]
    }
   ],
   "source": [
    "for row in c:\n",
    "    print(row[0],'----',row[1],'---',row[2])"
   ]
  }
 ],
 "metadata": {
  "kernelspec": {
   "display_name": "Python 3",
   "language": "python",
   "name": "python3"
  },
  "language_info": {
   "codemirror_mode": {
    "name": "ipython",
    "version": 3
   },
   "file_extension": ".py",
   "mimetype": "text/x-python",
   "name": "python",
   "nbconvert_exporter": "python",
   "pygments_lexer": "ipython3",
   "version": "3.7.1"
  }
 },
 "nbformat": 4,
 "nbformat_minor": 2
}
