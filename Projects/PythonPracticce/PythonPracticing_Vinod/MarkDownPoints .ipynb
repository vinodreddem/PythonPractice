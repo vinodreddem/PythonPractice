{
 "cells": [
  {
   "cell_type": "markdown",
   "metadata": {},
   "source": [
    "# Markdown Note -Example "
   ]
  },
  {
   "cell_type": "markdown",
   "metadata": {},
   "source": [
    "# 1. Emphasize Text\n",
    "\n",
    "* Any text can be empahsized by wrapping it between * or Underscore ( _ )\n",
    "* Text wrapped with a single character results in itallic emphasis\n",
    "* Text wrapped with a double  character results in bold emphasis\n",
    "* Text wrapped with a triple  character results in bold & itallic emphasis\n",
    "\n",
    "\n",
    "#### Example :\n",
    "\n",
    "   *Italian*\n",
    "    __bold__\n",
    "    ___Italian&Bold___\n"
   ]
  },
  {
   "cell_type": "markdown",
   "metadata": {},
   "source": [
    "# 2.Writing Unordered List\n",
    "\n",
    "+ Each element of unordered list is starts with either astrict (*), plus (+) or hyphen (-)\n",
    "\n",
    "### Examples 1\n",
    "\n",
    "+ Apple\n",
    "+ Bananana\n",
    "+ Promogranate\n",
    "\n",
    "### Examples 2\n",
    "\n",
    "* India\n",
    "* Pak\n",
    "* Aus\n",
    "\n",
    "### Examples 3\n",
    "- Vinod\n",
    "- Vinjay\n",
    "- Ashok\n",
    "\n",
    "### Examples 4\n",
    "* Vinod \n",
    "+ Ajay\n",
    "- Raju"
   ]
  },
  {
   "cell_type": "markdown",
   "metadata": {},
   "source": [
    "#  3.Writing Ordered List \n",
    "\n",
    "* Each element of an ordered list start with a number and then by a dot.\n",
    "* Irrespective of numbers provided in the ordered list , The elements in HTML output starts from the starting number.\n",
    "\n",
    "### Example 3.1 :\n",
    "1. Govt Scholl\n",
    "2. Private Scholl\n",
    "3. Mixed School \n",
    "\n",
    "\n",
    "### Example 3.2:\n",
    "\n",
    "45. Govt Scholl\n",
    "1. Private Scholl\n",
    "1. Mixed School \n",
    "\n",
    "### Example 3.3:\n",
    "9. Abcd\n",
    "0. Dbekn\n",
    "11. sfksdb"
   ]
  },
  {
   "cell_type": "markdown",
   "metadata": {},
   "source": [
    "# 4.Writing Nested Unordered List \n",
    "\n",
    "* A nested elements also starts with asterix( * ), plus ( + ) , or a Hyphen ( - )\n",
    "* In Addition they are intended at the begining by atleast three spaces.\n",
    "* All elements that have to appear at the same nested level have to be intended by same amount of space.\n",
    "\n",
    "### Example 4.1 :\n",
    "\n",
    "- ** Type Of Fruits **\n",
    " \n",
    "   + __Citrus Fruits__\n",
    " \n",
    "        * Lemon \n",
    "        * Tomirand\n",
    "        * Anasa\n",
    " \n",
    "   \n",
    "   \n",
    "   + __Sweet Fruits__\n",
    "\n",
    "\n"
   ]
  },
  {
   "cell_type": "markdown",
   "metadata": {},
   "source": [
    "# 5.Writing List Elements Across the Multiple lines\n",
    "\n",
    "* To write a specific list of elements across multilple lines ,include two spaces at the end of each line.\n",
    "\n",
    "\n",
    "### Example 5.1:\n",
    "\n",
    "- I am First Statement.  \n",
    "I am still in first statement.\n",
    "\n",
    "- I am Second statement.  \n",
    "I am still in second statement.  \n",
    "This is also in second statement.\n"
   ]
  },
  {
   "cell_type": "markdown",
   "metadata": {},
   "source": [
    "# 6. Inserting a code block \n",
    "\n",
    "* code of any language is inserted as a lock of code , by placing them inside pair of a triple quotes.\n",
    "\n"
   ]
  },
  {
   "cell_type": "markdown",
   "metadata": {},
   "source": [
    "# 7. Inserting a Hyper Link\n",
    "\n",
    "- To asscociate a hyper link to some text , follow the below syntax :\n",
    "   - Some Text in Sqqure Brackets [ ] and Hyperlink in paranthesis ( )\n",
    "\n",
    "## Example  7.1:\n",
    "[Numpy Tutorial](https://www.numpy.org/devdocs/user/quickstart.html)"
   ]
  },
  {
   "cell_type": "markdown",
   "metadata": {},
   "source": [
    "# 8.Inserting Reference Link\n",
    "* To asscociate a reference link to some text follow the below syntax.\n",
    "    *  [Some Text in Squre racket ] [References in squre bracket ]\n",
    "    *  [Reference in squrebracket mentioned above ] :hyper link needs to give here\n",
    "    * One empty line should be present between reference link and name ."
   ]
  },
  {
   "cell_type": "markdown",
   "metadata": {},
   "source": [
    "#### Example 4:\n",
    "\n",
    "   [SQL Practice][Reference]\n",
    "   \n",
    "   [Reference]: https://artoftesting.com/interviewSection/sql-queries-for-interview.html"
   ]
  },
  {
   "cell_type": "markdown",
   "metadata": {},
   "source": [
    "# 9. Inserting HTML Elements \n",
    "\n",
    "* Htmel elements can be inserted as it is .\n",
    "\n",
    "<p> This is paragraph </p>\n",
    "<h4> Header it is </h4>"
   ]
  },
  {
   "cell_type": "code",
   "execution_count": 1,
   "metadata": {},
   "outputs": [
    {
     "data": {
      "text/plain": [
       "'_i1'"
      ]
     },
     "execution_count": 1,
     "metadata": {},
     "output_type": "execute_result"
    }
   ],
   "source": [
    "_i1"
   ]
  },
  {
   "cell_type": "code",
   "execution_count": 2,
   "metadata": {},
   "outputs": [
    {
     "data": {
      "text/plain": [
       "'_i2'"
      ]
     },
     "execution_count": 2,
     "metadata": {},
     "output_type": "execute_result"
    }
   ],
   "source": [
    "_i2"
   ]
  },
  {
   "cell_type": "code",
   "execution_count": 3,
   "metadata": {},
   "outputs": [
    {
     "data": {
      "text/plain": [
       "'_i3'"
      ]
     },
     "execution_count": 3,
     "metadata": {},
     "output_type": "execute_result"
    }
   ],
   "source": [
    "_i3"
   ]
  },
  {
   "cell_type": "code",
   "execution_count": 4,
   "metadata": {},
   "outputs": [
    {
     "data": {
      "text/plain": [
       "'_i1'"
      ]
     },
     "execution_count": 4,
     "metadata": {},
     "output_type": "execute_result"
    }
   ],
   "source": [
    "_1"
   ]
  },
  {
   "cell_type": "code",
   "execution_count": 5,
   "metadata": {},
   "outputs": [
    {
     "name": "stdout",
     "output_type": "stream",
     "text": [
      "_i1\n",
      "_i2\n",
      "_i3\n",
      "_1\n",
      "%hist\n"
     ]
    }
   ],
   "source": [
    "%hist"
   ]
  },
  {
   "cell_type": "code",
   "execution_count": 1,
   "metadata": {},
   "outputs": [],
   "source": [
    "import os\n"
   ]
  },
  {
   "cell_type": "code",
   "execution_count": 2,
   "metadata": {},
   "outputs": [
    {
     "data": {
      "text/plain": [
       "'C:\\\\Users\\\\Sanvi\\\\PythonPracticing_Vinod'"
      ]
     },
     "execution_count": 2,
     "metadata": {},
     "output_type": "execute_result"
    }
   ],
   "source": [
    "os.getcwd()\n"
   ]
  }
 ],
 "metadata": {
  "kernelspec": {
   "display_name": "Python 3",
   "language": "python",
   "name": "python3"
  },
  "language_info": {
   "codemirror_mode": {
    "name": "ipython",
    "version": 3
   },
   "file_extension": ".py",
   "mimetype": "text/x-python",
   "name": "python",
   "nbconvert_exporter": "python",
   "pygments_lexer": "ipython3",
   "version": "3.7.1"
  }
 },
 "nbformat": 4,
 "nbformat_minor": 2
}
